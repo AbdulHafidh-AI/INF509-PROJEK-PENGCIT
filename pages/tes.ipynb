{
 "cells": [
  {
   "cell_type": "code",
   "execution_count": 1,
   "metadata": {},
   "outputs": [
    {
     "name": "stdout",
     "output_type": "stream",
     "text": [
      "< cv2.CascadeClassifier 0x7f9d238f2fd0>\n"
     ]
    }
   ],
   "source": [
    "import cv2\n",
    "\n",
    "# read haarcascade_frontalface_default.xml\n",
    "\n",
    "face_cascade = cv2.CascadeClassifier('haarcascade_frontalface_default.xml')\n",
    "\n",
    "print(face_cascade)"
   ]
  }
 ],
 "metadata": {
  "kernelspec": {
   "display_name": "Python 3.7.0 ('env_pengolahan_citra': venv)",
   "language": "python",
   "name": "python3"
  },
  "language_info": {
   "codemirror_mode": {
    "name": "ipython",
    "version": 3
   },
   "file_extension": ".py",
   "mimetype": "text/x-python",
   "name": "python",
   "nbconvert_exporter": "python",
   "pygments_lexer": "ipython3",
   "version": "3.7.0"
  },
  "orig_nbformat": 4,
  "vscode": {
   "interpreter": {
    "hash": "326bd799febf7ea123a005613b05c44171e14eda2bdded1491b0615a8ea149cc"
   }
  }
 },
 "nbformat": 4,
 "nbformat_minor": 2
}
