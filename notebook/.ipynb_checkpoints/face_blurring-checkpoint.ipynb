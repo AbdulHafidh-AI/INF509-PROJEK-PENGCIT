{
 "cells": [
  {
   "cell_type": "code",
   "execution_count": 1,
   "metadata": {},
   "outputs": [],
   "source": [
    "import cv2\n",
    "import numpy\n",
    "from matplotlib import pyplot as plt"
   ]
  },
  {
   "cell_type": "code",
   "execution_count": 2,
   "metadata": {},
   "outputs": [
    {
     "name": "stderr",
     "output_type": "stream",
     "text": [
      "[ WARN:0@0.196] global loadsave.cpp:248 findDecoder imread_('/home/furqan/Documents/Coding/TugasPengCit/INF509-PROJEK-PENGCIT/image/tugas02-face_blurring/image-sample.jpeg'): can't open/read file: check file path/integrity\n"
     ]
    }
   ],
   "source": [
    "# membaca gambar\n",
    "img = cv2.imread('/home/faqih/TugasPengCit/INF509-PROJEK-PENGCIT/image/tugas02-face_blurring/image-sample.jpeg', 0)"
   ]
  },
  {
   "cell_type": "code",
   "execution_count": 3,
   "metadata": {},
   "outputs": [
    {
     "ename": "error",
     "evalue": "OpenCV(4.8.0) /io/opencv/modules/imgproc/src/color.cpp:182: error: (-215:Assertion failed) !_src.empty() in function 'cvtColor'\n",
     "output_type": "error",
     "traceback": [
      "\u001b[0;31m---------------------------------------------------------------------------\u001b[0m",
      "\u001b[0;31merror\u001b[0m                                     Traceback (most recent call last)",
      "Cell \u001b[0;32mIn[3], line 1\u001b[0m\n\u001b[0;32m----> 1\u001b[0m plt\u001b[38;5;241m.\u001b[39mimshow(\u001b[43mcv2\u001b[49m\u001b[38;5;241;43m.\u001b[39;49m\u001b[43mcvtColor\u001b[49m\u001b[43m(\u001b[49m\u001b[43mimg\u001b[49m\u001b[43m,\u001b[49m\u001b[43m \u001b[49m\u001b[43mcv2\u001b[49m\u001b[38;5;241;43m.\u001b[39;49m\u001b[43mCOLOR_BGR2RGB\u001b[49m\u001b[43m)\u001b[49m)\n\u001b[1;32m      2\u001b[0m plt\u001b[38;5;241m.\u001b[39mtitle(\u001b[38;5;124m\"\u001b[39m\u001b[38;5;124mBefore\u001b[39m\u001b[38;5;124m\"\u001b[39m)\n\u001b[1;32m      3\u001b[0m plt\u001b[38;5;241m.\u001b[39maxis(\u001b[38;5;124m'\u001b[39m\u001b[38;5;124moff\u001b[39m\u001b[38;5;124m'\u001b[39m)\n",
      "\u001b[0;31merror\u001b[0m: OpenCV(4.8.0) /io/opencv/modules/imgproc/src/color.cpp:182: error: (-215:Assertion failed) !_src.empty() in function 'cvtColor'\n"
     ]
    }
   ],
   "source": [
    "plt.imshow(cv2.cvtColor(img, cv2.COLOR_BGR2RGB))\n",
    "plt.title(\"Before\")\n",
    "plt.axis('off')\n",
    "plt.show()"
   ]
  },
  {
   "cell_type": "code",
   "execution_count": null,
   "metadata": {},
   "outputs": [],
   "source": [
    "blur_amount = int(request.args.get('amount', 0))\n",
    "ksize = 2 * blur_amount + 1\n",
    "\n",
    "# image_path = os.path.join(UPLOAD_FOLDER, 'uploaded.jpg')\n",
    "# image = cv2.imread(image_path)\n",
    "\n",
    "face_classifier = cv2.CascadeClassifier(\n",
    "    cv2.data.haarcascades + \"haarcascade_frontalface_default.xml\"\n",
    ")\n",
    "\n",
    "faces = face_classifier.detectMultiScale(\n",
    "    img, scaleFactor=1.1, minNeighbors=5, minSize=(40, 40)\n",
    ")\n",
    "\n",
    "for (x, y, w, h) in faces:\n",
    "    roi = img[y:y+h, x:x+w]\n",
    "    roi = cv2.GaussianBlur(roi, (ksize, ksize), 30)\n",
    "    img[y:y+roi.shape[0], x:x+roi.shape[1]] = roi\n",
    "\n",
    "output_path = os.path.join(UPLOAD_FOLDER, f'blurred_{blur_amount}.jpg')\n",
    "cv2.imwrite(output_path, image)"
   ]
  }
 ],
 "metadata": {
  "kernelspec": {
   "display_name": "Python 3 (ipykernel)",
   "language": "python",
   "name": "python3"
  },
  "language_info": {
   "codemirror_mode": {
    "name": "ipython",
    "version": 3
   },
   "file_extension": ".py",
   "mimetype": "text/x-python",
   "name": "python",
   "nbconvert_exporter": "python",
   "pygments_lexer": "ipython3",
   "version": "3.9.18"
  },
  "vscode": {
   "interpreter": {
    "hash": "326bd799febf7ea123a005613b05c44171e14eda2bdded1491b0615a8ea149cc"
   }
  }
 },
 "nbformat": 4,
 "nbformat_minor": 2
}
