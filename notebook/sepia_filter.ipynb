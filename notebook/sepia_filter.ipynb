{
 "cells": [
  {
   "cell_type": "code",
   "execution_count": null,
   "metadata": {},
   "outputs": [],
   "source": [
    "import cv2\n",
    "import numpy\n",
    "from matplotlib import pyplot as plt"
   ]
  },
  {
   "cell_type": "code",
   "execution_count": null,
   "metadata": {},
   "outputs": [],
   "source": [
    "def apply_sepia(input_img_path, output_img_path):\n",
    "    # Membaca gambar\n",
    "    img = cv2.imread(input_img_path)\n",
    "\n",
    "    # Membuat matriks transformasi untuk efek sepia\n",
    "    # Berdasarkan rumus yang diberikan\n",
    "    sepia_filter = np.array([[0.272, 0.534, 0.131],\n",
    "                             [0.349, 0.686, 0.168],\n",
    "                             [0.393, 0.769, 0.189]])\n",
    "\n",
    "    # Terapkan transformasi untuk setiap piksel gambar\n",
    "    sepia_img = img @ sepia_filter.T\n",
    "    sepia_img = np.clip(sepia_img, 0, 255).astype(np.uint8)\n",
    "\n",
    "    # Simpan gambar hasil\n",
    "    cv2.imwrite(output_img_path, sepia_img)\n",
    "\n",
    "    # plt.imshow(sepia_img)\n",
    "    # plt.title(\"Result\")\n",
    "    # plt.axis('off')"
   ]
  },
  {
   "cell_type": "code",
   "execution_count": null,
   "metadata": {},
   "outputs": [],
   "source": [
    "# Panggil fungsi untuk menerapkan filter sepia\n",
    "input_path = \"images/stalin.jpeg\"\n",
    "output_path = \"output_stalin.jpg\"\n",
    "apply_sepia(input_path, output_path)"
   ]
  }
 ],
 "metadata": {
  "language_info": {
   "name": "python"
  },
  "orig_nbformat": 4
 },
 "nbformat": 4,
 "nbformat_minor": 2
}
